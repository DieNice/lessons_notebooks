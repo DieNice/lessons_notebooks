{
 "cells": [
  {
   "cell_type": "code",
   "execution_count": 2,
   "id": "1d154e8c-b3c5-4abf-a5b6-49f511b48def",
   "metadata": {},
   "outputs": [
    {
     "name": "stdout",
     "output_type": "stream",
     "text": [
      "Requirement already satisfied: requests in c:\\users\\daily\\appdata\\local\\programs\\python\\python311\\lib\\site-packages (2.31.0)\n",
      "Collecting bs4\n",
      "  Using cached bs4-0.0.1-py3-none-any.whl\n",
      "Requirement already satisfied: charset-normalizer<4,>=2 in c:\\users\\daily\\appdata\\local\\programs\\python\\python311\\lib\\site-packages (from requests) (3.2.0)\n",
      "Requirement already satisfied: idna<4,>=2.5 in c:\\users\\daily\\appdata\\local\\programs\\python\\python311\\lib\\site-packages (from requests) (3.4)\n",
      "Requirement already satisfied: urllib3<3,>=1.21.1 in c:\\users\\daily\\appdata\\local\\programs\\python\\python311\\lib\\site-packages (from requests) (2.0.5)\n",
      "Requirement already satisfied: certifi>=2017.4.17 in c:\\users\\daily\\appdata\\local\\programs\\python\\python311\\lib\\site-packages (from requests) (2023.7.22)\n",
      "Requirement already satisfied: beautifulsoup4 in c:\\users\\daily\\appdata\\local\\programs\\python\\python311\\lib\\site-packages (from bs4) (4.12.2)\n",
      "Requirement already satisfied: soupsieve>1.2 in c:\\users\\daily\\appdata\\local\\programs\\python\\python311\\lib\\site-packages (from beautifulsoup4->bs4) (2.5)\n",
      "Installing collected packages: bs4\n",
      "Successfully installed bs4-0.0.1\n",
      "Note: you may need to restart the kernel to use updated packages.\n"
     ]
    },
    {
     "name": "stderr",
     "output_type": "stream",
     "text": [
      "\n",
      "[notice] A new release of pip is available: 23.2.1 -> 23.3.1\n",
      "[notice] To update, run: C:\\Users\\Daily\\AppData\\Local\\Programs\\Python\\Python311\\python.exe -m pip install --upgrade pip\n"
     ]
    }
   ],
   "source": [
    "%pip install requests bs4"
   ]
  },
  {
   "cell_type": "code",
   "execution_count": 14,
   "id": "9a287276-04da-4190-90c3-c986b623d3a9",
   "metadata": {},
   "outputs": [],
   "source": [
    "import requests, bs4, os"
   ]
  },
  {
   "cell_type": "markdown",
   "id": "9e9d6147-23b8-425c-87d6-1b28673c45b6",
   "metadata": {},
   "source": [
    "# Шаг 1 - проектирование веб-страницы"
   ]
  },
  {
   "cell_type": "code",
   "execution_count": 15,
   "id": "f31c66e5-377a-4955-b648-4ca9bb0ab17e",
   "metadata": {},
   "outputs": [
    {
     "name": "stdout",
     "output_type": "stream",
     "text": [
      "Готово!\n"
     ]
    }
   ],
   "source": [
    "url = 'http://xkcd.com' #Стартовая страница\n",
    "os.makedirs('xkcd', exist_ok=True) # Сохраняем комикс в папке xkdc\n",
    "\n",
    "while not url.endswith('#'):\n",
    "    break #Временный выход из цикла\n",
    "    #TODO: Загрузить страницу\n",
    "    #TODO: Найти URL-адрес изображения комикса\n",
    "    #TODO: Загрузить изображение\n",
    "    #TODO: Сохранить изображение в папке xkcd\n",
    "    #TODO: Получить URL-адрес кнопки Prev\n",
    "print(\"Готово!\")"
   ]
  },
  {
   "cell_type": "markdown",
   "id": "b2b40dfc-a6ba-4fb7-aaa0-7edb85db1465",
   "metadata": {},
   "source": [
    "# Шаг 2 Загрузка веб-страницы"
   ]
  },
  {
   "cell_type": "code",
   "execution_count": 18,
   "id": "4af6ca26-3542-431a-9aba-c75c500d093c",
   "metadata": {},
   "outputs": [
    {
     "name": "stdout",
     "output_type": "stream",
     "text": [
      "Загружается страница http://xkcd.com...\n",
      "Готово!\n"
     ]
    }
   ],
   "source": [
    "url = 'http://xkcd.com' #Стартовая страница\n",
    "os.makedirs('xkcd', exist_ok=True) # Сохраняем комикс в папке xkdc\n",
    "\n",
    "while not url.endswith('#'):\n",
    "    print(f\"Загружается страница {url}...\")\n",
    "    response = requests.get(url)\n",
    "    if response.ok:\n",
    "        soup = bs4.BeautifulSoup(response.text)\n",
    "    break #Временный выход из цикла\n",
    "    #TODO: Найти URL-адрес изображения комикса\n",
    "    #TODO: Загрузить изображение\n",
    "    #TODO: Сохранить изображение в папке xkcd\n",
    "    #TODO: Получить URL-адрес кнопки Prev\n",
    "print(\"Готово!\")"
   ]
  },
  {
   "cell_type": "markdown",
   "id": "8bcb5d5e-7535-4869-a677-1d0f98878c0a",
   "metadata": {},
   "source": [
    "# Шаг 3 Поиск и загрузка изображения комикса"
   ]
  },
  {
   "cell_type": "code",
   "execution_count": 44,
   "id": "0b29a699-22a7-4f73-b80c-934b023df508",
   "metadata": {},
   "outputs": [
    {
     "name": "stdout",
     "output_type": "stream",
     "text": [
      "Загружается страница http://xkcd.com...\n",
      "Загружается изображение https://imgs.xkcd.com/comics/snow.png\n",
      "Готово!\n"
     ]
    }
   ],
   "source": [
    "url = 'http://xkcd.com' #Стартовая страница\n",
    "os.makedirs('xkcd', exist_ok=True) # Сохраняем комикс в папке xkdc\n",
    "\n",
    "while not url.endswith('#'):\n",
    "    print(f\"Загружается страница {url}...\")\n",
    "    response = requests.get(url)\n",
    "    if response.ok:\n",
    "        soup = bs4.BeautifulSoup(response.text)\n",
    "    comic_elem = soup.select(\"#comic\") # Поиск тега по его id\n",
    "    if comic_elem == []:\n",
    "        print(\"Не удалость найти изображение комикса\")\n",
    "    else:\n",
    "        image_url = comic_elem[0].find_all(\"img\")[0].get(\"src\")\n",
    "        comic_url = f\"https:{image_url}\" \n",
    "        #Загрузить изображение\n",
    "        print(f\"Загружается изображение {comic_url}\")\n",
    "        res = requests.get(comic_url)\n",
    "        \n",
    "    break #Временный выход из цикла\n",
    "    #TODO: Сохранить изображение в папке xkcd\n",
    "    #TODO: Получить URL-адрес кнопки Prev\n",
    "print(\"Готово!\")"
   ]
  },
  {
   "cell_type": "markdown",
   "id": "0a753e58-f57d-47cb-8e0d-26cc3d57a7b3",
   "metadata": {},
   "source": [
    "# Шаг 4 Сохранение изображения и поиск предыдущего комикса"
   ]
  },
  {
   "cell_type": "code",
   "execution_count": 59,
   "id": "d92c9bbf-ae1a-43cf-9a1d-3164e2a1f8b5",
   "metadata": {},
   "outputs": [
    {
     "name": "stdout",
     "output_type": "stream",
     "text": [
      "Загружается страница http://xkcd.com...\n",
      "Загружается изображение https://imgs.xkcd.com/comics/snow.png\n",
      "Загружается страница https://xkcd.com/2865/...\n",
      "Загружается изображение https://imgs.xkcd.com/comics/the_wrong_stuff.png\n",
      "Загружается страница https://xkcd.com/2864/...\n",
      "Загружается изображение https://imgs.xkcd.com/comics/compact_graphs.png\n",
      "Загружается страница https://xkcd.com/2863/...\n",
      "Загружается изображение https://imgs.xkcd.com/comics/space_typography.png\n",
      "Загружается страница https://xkcd.com/2862/...\n",
      "Загружается изображение https://imgs.xkcd.com/comics/typical_seating_chart.png\n",
      "Загружается страница https://xkcd.com/2861/...\n",
      "Загружается изображение https://imgs.xkcd.com/comics/x_value.png\n",
      "Загружается страница https://xkcd.com/2860/...\n",
      "Загружается изображение https://imgs.xkcd.com/comics/decay_modes.png\n",
      "Загружается страница https://xkcd.com/2859/...\n",
      "Загружается изображение https://imgs.xkcd.com/comics/oceanography_gift.png\n",
      "Загружается страница https://xkcd.com/2858/...\n",
      "Загружается изображение https://imgs.xkcd.com/comics/thanksgiving_arguments.png\n",
      "Загружается страница https://xkcd.com/2857/...\n",
      "Загружается изображение https://imgs.xkcd.com/comics/rebuttals.png\n",
      "Готово!\n"
     ]
    }
   ],
   "source": [
    "url = 'http://xkcd.com' #Стартовая страница\n",
    "os.makedirs('xkcd', exist_ok=True) # Сохраняем комикс в папке xkdc\n",
    "\n",
    "MAX_SHEET = 10\n",
    "max_sheet_count = 0\n",
    "\n",
    "\n",
    "\n",
    "while not url.endswith('#'):\n",
    "    print(f\"Загружается страница {url}...\")\n",
    "    response = requests.get(url)\n",
    "    if response.ok:\n",
    "        soup = bs4.BeautifulSoup(response.text)\n",
    "    comic_elem = soup.select(\"#comic\") # Поиск тега по его id\n",
    "    if comic_elem == []:\n",
    "        print(\"Не удалость найти изображение комикса\")\n",
    "    else:\n",
    "        image_url = comic_elem[0].find_all(\"img\")[0].get(\"src\")\n",
    "        comic_url = f\"https:{image_url}\" \n",
    "        #Загрузить изображение\n",
    "        print(f\"Загружается изображение {comic_url}\")\n",
    "        res = requests.get(comic_url)\n",
    "\n",
    "        with open(os.path.join(\"xkcd\", os.path.basename(comic_url)),'wb') as f:\n",
    "            # Запись изображения из http ответа в файл \n",
    "            for chunk in res:\n",
    "                f.write(chunk)\n",
    "        # Получение url-адреса предыдушего комикса\n",
    "        prev_link = soup.select('a[rel=\"prev\"]')[0]\n",
    "        url = f'https://xkcd.com{prev_link.get(\"href\")}'\n",
    "        max_sheet_count += 1\n",
    "        if MAX_SHEET == max_sheet_count:\n",
    "            break\n",
    "\n",
    "print(\"Готово!\")"
   ]
  }
 ],
 "metadata": {
  "kernelspec": {
   "display_name": "Python 3 (ipykernel)",
   "language": "python",
   "name": "python3"
  },
  "language_info": {
   "codemirror_mode": {
    "name": "ipython",
    "version": 3
   },
   "file_extension": ".py",
   "mimetype": "text/x-python",
   "name": "python",
   "nbconvert_exporter": "python",
   "pygments_lexer": "ipython3",
   "version": "3.11.5"
  }
 },
 "nbformat": 4,
 "nbformat_minor": 5
}
