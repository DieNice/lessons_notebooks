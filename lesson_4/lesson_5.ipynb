{
 "cells": [
  {
   "cell_type": "markdown",
   "id": "16b5b8bf-a4bd-442f-8ebe-35b8c53133c1",
   "metadata": {},
   "source": [
    "# Работа с базами данных"
   ]
  },
  {
   "cell_type": "markdown",
   "id": "ca46c222-894c-47ad-8313-ebb6b9de3526",
   "metadata": {},
   "source": [
    "## Postgres"
   ]
  },
  {
   "cell_type": "markdown",
   "id": "ac6beb54-ef2f-45bc-ad77-14399a7560f7",
   "metadata": {},
   "source": [
    "### Установка pcycopg"
   ]
  },
  {
   "cell_type": "code",
   "execution_count": 1,
   "id": "5474c806-f19b-4379-bf97-3980799fea0c",
   "metadata": {},
   "outputs": [
    {
     "name": "stdout",
     "output_type": "stream",
     "text": [
      "Requirement already satisfied: psycopg2 in c:\\users\\daily\\documents\\lessons_notebooks\\venv\\lib\\site-packages (2.9.9)\n",
      "Note: you may need to restart the kernel to use updated packages.\n"
     ]
    },
    {
     "name": "stderr",
     "output_type": "stream",
     "text": [
      "\n",
      "[notice] A new release of pip is available: 23.2.1 -> 23.3.1\n",
      "[notice] To update, run: python.exe -m pip install --upgrade pip\n"
     ]
    }
   ],
   "source": [
    "%pip install psycopg2"
   ]
  },
  {
   "cell_type": "markdown",
   "id": "42967578-4eca-4c3b-8807-03510b7c0d1a",
   "metadata": {},
   "source": [
    "### Подключение к базе данных"
   ]
  },
  {
   "cell_type": "code",
   "execution_count": 4,
   "id": "b1712115-087e-4b11-9dfa-ff8ce9ed71f4",
   "metadata": {},
   "outputs": [],
   "source": [
    "from psycopg2 import OperationalError\n",
    "import psycopg2\n",
    "\n",
    "def create_connection(db_name:str, db_user:str, db_password:str, db_host:str, db_port:int):\n",
    "    connection = None\n",
    "    try:\n",
    "        connection = psycopg2.connect(\n",
    "            database=db_name,\n",
    "            user=db_user,\n",
    "            password=db_password,\n",
    "            host=db_host,\n",
    "            port=db_port,\n",
    "        )\n",
    "        print(\"Connection to PostgreSQL DB successful\")\n",
    "    except OperationalError as e:\n",
    "        print(f\"The error '{e}' occurred\")\n",
    "    return connection"
   ]
  },
  {
   "cell_type": "code",
   "execution_count": 5,
   "id": "1872afd6-4b25-4b73-b85f-209551e947ff",
   "metadata": {},
   "outputs": [
    {
     "name": "stdout",
     "output_type": "stream",
     "text": [
      "Connection to PostgreSQL DB successful\n"
     ]
    }
   ],
   "source": [
    "connection = create_connection( \"demo\", \"postgres\", \"password\", \"127.0.0.1\", \"5432\" )"
   ]
  },
  {
   "cell_type": "markdown",
   "id": "ca089be4-cf06-4910-ba6a-1d13ab53453b",
   "metadata": {},
   "source": [
    "### Создание таблиц"
   ]
  },
  {
   "cell_type": "code",
   "execution_count": 8,
   "id": "502a8ca7-9fbc-4ee4-8eea-31fc3704ea78",
   "metadata": {},
   "outputs": [],
   "source": [
    "def execute_query(connection, query):\n",
    "    connection.autocommit = True\n",
    "    cursor = connection.cursor()\n",
    "    try:\n",
    "        cursor.execute(query)\n",
    "        print(\"Query executed successfully\")\n",
    "        cursor.close()  # закрываем курсор\n",
    "    except OperationalError as e:\n",
    "        cursor.close()  # закрываем курсор\n",
    "        print(f\"The error '{e}' occurred\")"
   ]
  },
  {
   "cell_type": "code",
   "execution_count": 9,
   "id": "f47a0218-f461-4059-872c-398d7edbda63",
   "metadata": {},
   "outputs": [],
   "source": [
    "create_users_table = \"\"\"\n",
    "CREATE TABLE IF NOT EXISTS users (\n",
    "  id SERIAL PRIMARY KEY,\n",
    "  name TEXT NOT NULL, \n",
    "  age INTEGER,\n",
    "  gender TEXT,\n",
    "  nationality TEXT\n",
    ")\n",
    "\"\"\""
   ]
  },
  {
   "cell_type": "code",
   "execution_count": 11,
   "id": "2accc7bc-db73-4458-a6f2-4a6e2b5a8224",
   "metadata": {},
   "outputs": [
    {
     "name": "stdout",
     "output_type": "stream",
     "text": [
      "Query executed successfully\n"
     ]
    }
   ],
   "source": [
    "execute_query(connection, create_users_table)\n",
    "connection.close()    # закрываем подключение"
   ]
  },
  {
   "cell_type": "markdown",
   "id": "f15290c4-12cc-4805-9180-28402c71a29f",
   "metadata": {},
   "source": [
    "### Вставка данных"
   ]
  },
  {
   "cell_type": "code",
   "execution_count": 14,
   "id": "e534997b-09a7-4abf-9884-23c1b664c71d",
   "metadata": {},
   "outputs": [
    {
     "name": "stdout",
     "output_type": "stream",
     "text": [
      "Connection to PostgreSQL DB successful\n"
     ]
    }
   ],
   "source": [
    "users = [\n",
    "    (\"James\", 25, \"male\", \"USA\"),\n",
    "    (\"Leila\", 32, \"female\", \"France\"),\n",
    "    (\"Brigitte\", 35, \"female\", \"England\"),\n",
    "    (\"Mike\", 40, \"male\", \"Denmark\"),\n",
    "    (\"Elizabeth\", 21, \"female\", \"Canada\"),\n",
    "]\n",
    "\n",
    "user_records = \", \".join([\"%s\"] * len(users))\n",
    "\n",
    "insert_query = f\"INSERT INTO users (name, age, gender, nationality) VALUES {user_records}\"\n",
    "\n",
    "connection = create_connection( \"demo\", \"postgres\", \"password\", \"127.0.0.1\", \"5432\" )\n",
    "connection.autocommit = True\n",
    "cursor = connection.cursor()\n",
    "cursor.execute(insert_query, users)\n",
    "cursor.close()\n",
    "connection.close()"
   ]
  },
  {
   "cell_type": "markdown",
   "id": "dd8349c3-6ac7-4635-85a9-b6eee7aa08fe",
   "metadata": {},
   "source": [
    "### Множественная вставка строк"
   ]
  },
  {
   "cell_type": "code",
   "execution_count": 21,
   "id": "a200f1b4-44ae-4ef3-8424-27263dc2c43e",
   "metadata": {},
   "outputs": [
    {
     "name": "stdout",
     "output_type": "stream",
     "text": [
      "Connection to PostgreSQL DB successful\n"
     ]
    }
   ],
   "source": [
    "users = [\n",
    "    (\"James\", 25, \"male\", \"USA\"),\n",
    "    (\"Leila\", 32, \"female\", \"France\"),\n",
    "    (\"Brigitte\", 35, \"female\", \"England\"),\n",
    "    (\"Mike\", 40, \"male\", \"Denmark\"),\n",
    "    (\"Elizabeth\", 21, \"female\", \"Canada\"),\n",
    "]\n",
    "\n",
    "insert_query = \"INSERT INTO users (name, age, gender, nationality) VALUES (%s,%s,%s,%s);\"\n",
    "\n",
    "connection = create_connection( \"demo\", \"postgres\", \"password\", \"127.0.0.1\", \"5432\" )\n",
    "connection.autocommit = True\n",
    "cursor = connection.cursor()\n",
    "cursor.executemany(insert_query, users)\n",
    "cursor.close()\n",
    "connection.close()"
   ]
  },
  {
   "cell_type": "markdown",
   "id": "bef19c0d-245a-4aaa-93cd-f73123bdce60",
   "metadata": {},
   "source": [
    "### Извлечение данных из записей"
   ]
  },
  {
   "cell_type": "code",
   "execution_count": 22,
   "id": "3c36f451-bdf3-4306-bf01-585a7168584b",
   "metadata": {},
   "outputs": [
    {
     "name": "stdout",
     "output_type": "stream",
     "text": [
      "Connection to PostgreSQL DB successful\n",
      "(11, 'James', 25, 'male', 'USA')\n",
      "(12, 'Leila', 32, 'female', 'France')\n",
      "(13, 'Brigitte', 35, 'female', 'England')\n",
      "(14, 'Mike', 40, 'male', 'Denmark')\n",
      "(15, 'Elizabeth', 21, 'female', 'Canada')\n"
     ]
    }
   ],
   "source": [
    "def execute_read_query(connection, query):\n",
    "    cursor = connection.cursor()\n",
    "    result = None\n",
    "    try:\n",
    "        cursor.execute(query)\n",
    "        result = cursor.fetchall()\n",
    "        cursor.close()\n",
    "        return result\n",
    "    except OperationalError as e:\n",
    "        cursor.close()\n",
    "        print(f\"The error '{e}' occurred\")\n",
    "\n",
    "select_users = \"SELECT * FROM users\"\n",
    "\n",
    "connection = create_connection( \"demo\", \"postgres\", \"password\", \"127.0.0.1\", \"5432\" )\n",
    "users = execute_read_query(connection, select_users)\n",
    "connection.close()\n",
    "\n",
    "for user in users:\n",
    "    print(user)"
   ]
  },
  {
   "cell_type": "markdown",
   "id": "d752f876-5469-42d1-b4be-f71dd4fa82c6",
   "metadata": {},
   "source": [
    "### Обновление записей в таблице"
   ]
  },
  {
   "cell_type": "code",
   "execution_count": 23,
   "id": "ed8a9a44-42b0-4828-883c-b1b7e9194ecc",
   "metadata": {},
   "outputs": [
    {
     "name": "stdout",
     "output_type": "stream",
     "text": [
      "Connection to PostgreSQL DB successful\n",
      "Query executed successfully\n"
     ]
    }
   ],
   "source": [
    "update_user_nationality = \"\"\"\n",
    "UPDATE\n",
    "  users\n",
    "SET\n",
    "  nationality = 'russian'\n",
    "WHERE\n",
    "  id = 2\n",
    "\"\"\"\n",
    "\n",
    "connection = create_connection( \"demo\", \"postgres\", \"password\", \"127.0.0.1\", \"5432\" )\n",
    "execute_query(connection,  update_user_nationality)\n",
    "connection.close()"
   ]
  },
  {
   "cell_type": "markdown",
   "id": "0f2d71e6-ae54-48fc-8390-eb54560ed35e",
   "metadata": {},
   "source": [
    "### Удаление записей в т"
   ]
  },
  {
   "cell_type": "code",
   "execution_count": 24,
   "id": "0dd6f341-0fe8-4352-bdbd-a75d31687789",
   "metadata": {},
   "outputs": [
    {
     "name": "stdout",
     "output_type": "stream",
     "text": [
      "Connection to PostgreSQL DB successful\n",
      "Query executed successfully\n"
     ]
    }
   ],
   "source": [
    "delete_user = \"DELETE FROM users WHERE id = 5\"\n",
    "\n",
    "connection = create_connection( \"demo\", \"postgres\", \"password\", \"127.0.0.1\", \"5432\" )\n",
    "execute_query(connection, delete_user)\n",
    "connection.close()"
   ]
  },
  {
   "cell_type": "markdown",
   "id": "bf2d5a70-52cf-4e59-afde-461bf2d4cde7",
   "metadata": {},
   "source": [
    "### Pandas и Psycopg2"
   ]
  },
  {
   "cell_type": "code",
   "execution_count": 25,
   "id": "a38431c7-896f-40e1-ac74-7fd33e22b351",
   "metadata": {},
   "outputs": [],
   "source": [
    "import pandas as pd"
   ]
  },
  {
   "cell_type": "code",
   "execution_count": 26,
   "id": "0f38be89-d503-419f-b99a-0edf35f866ef",
   "metadata": {},
   "outputs": [],
   "source": [
    "query = '''\n",
    "select fare_conditions , sum(tf.amount) from tickets t left join ticket_flights tf on tf.ticket_no = t.ticket_no group by fare_conditions ;\n",
    "'''"
   ]
  },
  {
   "cell_type": "code",
   "execution_count": 27,
   "id": "94581978-bcae-4ff2-bf1c-9fd29371bceb",
   "metadata": {},
   "outputs": [
    {
     "name": "stdout",
     "output_type": "stream",
     "text": [
      "Connection to PostgreSQL DB successful\n"
     ]
    },
    {
     "name": "stderr",
     "output_type": "stream",
     "text": [
      "C:\\Users\\Daily\\AppData\\Local\\Temp\\ipykernel_19876\\4238980040.py:2: UserWarning: pandas only supports SQLAlchemy connectable (engine/connection) or database string URI or sqlite3 DBAPI2 connection. Other DBAPI2 objects are not tested. Please consider using SQLAlchemy.\n",
      "  data_frame = pd.read_sql(query,connection)\n"
     ]
    }
   ],
   "source": [
    "connection = create_connection( \"demo\", \"postgres\", \"password\", \"127.0.0.1\", \"5432\" )\n",
    "data_frame = pd.read_sql(query,connection)\n",
    "connection.close()"
   ]
  },
  {
   "cell_type": "code",
   "execution_count": 28,
   "id": "a8e9ee9c-22b4-4879-9adb-b84716bfdf76",
   "metadata": {},
   "outputs": [
    {
     "data": {
      "text/html": [
       "<div>\n",
       "<style scoped>\n",
       "    .dataframe tbody tr th:only-of-type {\n",
       "        vertical-align: middle;\n",
       "    }\n",
       "\n",
       "    .dataframe tbody tr th {\n",
       "        vertical-align: top;\n",
       "    }\n",
       "\n",
       "    .dataframe thead th {\n",
       "        text-align: right;\n",
       "    }\n",
       "</style>\n",
       "<table border=\"1\" class=\"dataframe\">\n",
       "  <thead>\n",
       "    <tr style=\"text-align: right;\">\n",
       "      <th></th>\n",
       "      <th>fare_conditions</th>\n",
       "      <th>sum</th>\n",
       "    </tr>\n",
       "  </thead>\n",
       "  <tbody>\n",
       "    <tr>\n",
       "      <th>0</th>\n",
       "      <td>Business</td>\n",
       "      <td>5.505180e+09</td>\n",
       "    </tr>\n",
       "    <tr>\n",
       "      <th>1</th>\n",
       "      <td>Comfort</td>\n",
       "      <td>5.661169e+08</td>\n",
       "    </tr>\n",
       "    <tr>\n",
       "      <th>2</th>\n",
       "      <td>Economy</td>\n",
       "      <td>1.469568e+10</td>\n",
       "    </tr>\n",
       "  </tbody>\n",
       "</table>\n",
       "</div>"
      ],
      "text/plain": [
       "  fare_conditions           sum\n",
       "0        Business  5.505180e+09\n",
       "1         Comfort  5.661169e+08\n",
       "2         Economy  1.469568e+10"
      ]
     },
     "execution_count": 28,
     "metadata": {},
     "output_type": "execute_result"
    }
   ],
   "source": [
    "data_frame"
   ]
  },
  {
   "cell_type": "markdown",
   "id": "59f28e7b-7b82-413e-9cab-9b81f3ddf434",
   "metadata": {},
   "source": [
    "### Pandas и Sqlalchemy"
   ]
  },
  {
   "cell_type": "code",
   "execution_count": 29,
   "id": "7c02c888-05da-4dcd-899f-ba1e3bbfcbc9",
   "metadata": {},
   "outputs": [
    {
     "name": "stdout",
     "output_type": "stream",
     "text": [
      "Requirement already satisfied: sqlalchemy in c:\\users\\daily\\documents\\lessons_notebooks\\venv\\lib\\site-packages (2.0.22)\n",
      "Requirement already satisfied: typing-extensions>=4.2.0 in c:\\users\\daily\\documents\\lessons_notebooks\\venv\\lib\\site-packages (from sqlalchemy) (4.8.0)\n",
      "Requirement already satisfied: greenlet!=0.4.17 in c:\\users\\daily\\documents\\lessons_notebooks\\venv\\lib\\site-packages (from sqlalchemy) (3.0.0)\n",
      "Note: you may need to restart the kernel to use updated packages.\n"
     ]
    },
    {
     "name": "stderr",
     "output_type": "stream",
     "text": [
      "\n",
      "[notice] A new release of pip is available: 23.2.1 -> 23.3.1\n",
      "[notice] To update, run: python.exe -m pip install --upgrade pip\n"
     ]
    }
   ],
   "source": [
    "%pip install sqlalchemy"
   ]
  },
  {
   "cell_type": "code",
   "execution_count": 31,
   "id": "b6fa19b9-b132-44d6-8d6b-457d97545ea0",
   "metadata": {},
   "outputs": [
    {
     "data": {
      "text/html": [
       "<div>\n",
       "<style scoped>\n",
       "    .dataframe tbody tr th:only-of-type {\n",
       "        vertical-align: middle;\n",
       "    }\n",
       "\n",
       "    .dataframe tbody tr th {\n",
       "        vertical-align: top;\n",
       "    }\n",
       "\n",
       "    .dataframe thead th {\n",
       "        text-align: right;\n",
       "    }\n",
       "</style>\n",
       "<table border=\"1\" class=\"dataframe\">\n",
       "  <thead>\n",
       "    <tr style=\"text-align: right;\">\n",
       "      <th></th>\n",
       "      <th>fare_conditions</th>\n",
       "      <th>sum</th>\n",
       "    </tr>\n",
       "  </thead>\n",
       "  <tbody>\n",
       "    <tr>\n",
       "      <th>0</th>\n",
       "      <td>Business</td>\n",
       "      <td>5.505180e+09</td>\n",
       "    </tr>\n",
       "    <tr>\n",
       "      <th>1</th>\n",
       "      <td>Comfort</td>\n",
       "      <td>5.661169e+08</td>\n",
       "    </tr>\n",
       "    <tr>\n",
       "      <th>2</th>\n",
       "      <td>Economy</td>\n",
       "      <td>1.469568e+10</td>\n",
       "    </tr>\n",
       "  </tbody>\n",
       "</table>\n",
       "</div>"
      ],
      "text/plain": [
       "  fare_conditions           sum\n",
       "0        Business  5.505180e+09\n",
       "1         Comfort  5.661169e+08\n",
       "2         Economy  1.469568e+10"
      ]
     },
     "execution_count": 31,
     "metadata": {},
     "output_type": "execute_result"
    }
   ],
   "source": [
    "import pandas as pd\n",
    "from sqlalchemy import create_engine\n",
    "from sqlalchemy.sql import text\n",
    "\n",
    "sql_query = '''\n",
    "select fare_conditions , sum(tf.amount) from tickets t left join ticket_flights tf on tf.ticket_no = t.ticket_no group by fare_conditions ;\n",
    "'''\n",
    "\n",
    "engine = create_engine(\n",
    "    \"{dialect}+{driver}://{username}:{password}@{host}:{port}/{database}\".format(\n",
    "        dialect=\"postgresql\",\n",
    "        driver=\"psycopg2\",\n",
    "        username=\"postgres\",\n",
    "        password=\"password\",\n",
    "        host=\"localhost\",\n",
    "        port=5432,\n",
    "        database=\"demo\"\n",
    "    )\n",
    ")\n",
    "\n",
    "with engine.connect() as db_conn:\n",
    "    data_frame = pd.read_sql(sql=text(sql_query), con=db_conn)\n",
    "data_frame"
   ]
  },
  {
   "cell_type": "markdown",
   "id": "41080cc2-4476-473b-beeb-47aa9f0be2e8",
   "metadata": {},
   "source": [
    "## Clickhouse"
   ]
  },
  {
   "cell_type": "code",
   "execution_count": 1,
   "id": "eae29b1f-9456-4bf5-a476-1ab2ed46fec5",
   "metadata": {},
   "outputs": [
    {
     "name": "stdout",
     "output_type": "stream",
     "text": [
      "Requirement already satisfied: clickhouse-connect in c:\\users\\daily\\documents\\lessons_notebooks\\venv\\lib\\site-packages (0.6.17)\n",
      "Requirement already satisfied: certifi in c:\\users\\daily\\documents\\lessons_notebooks\\venv\\lib\\site-packages (from clickhouse-connect) (2023.7.22)\n",
      "Requirement already satisfied: urllib3>=1.26 in c:\\users\\daily\\documents\\lessons_notebooks\\venv\\lib\\site-packages (from clickhouse-connect) (2.0.6)\n",
      "Requirement already satisfied: pytz in c:\\users\\daily\\documents\\lessons_notebooks\\venv\\lib\\site-packages (from clickhouse-connect) (2023.3.post1)\n",
      "Requirement already satisfied: zstandard in c:\\users\\daily\\documents\\lessons_notebooks\\venv\\lib\\site-packages (from clickhouse-connect) (0.21.0)\n",
      "Requirement already satisfied: lz4 in c:\\users\\daily\\documents\\lessons_notebooks\\venv\\lib\\site-packages (from clickhouse-connect) (4.3.2)\n",
      "Note: you may need to restart the kernel to use updated packages.\n"
     ]
    },
    {
     "name": "stderr",
     "output_type": "stream",
     "text": [
      "\n",
      "[notice] A new release of pip is available: 23.2.1 -> 23.3.1\n",
      "[notice] To update, run: python.exe -m pip install --upgrade pip\n"
     ]
    }
   ],
   "source": [
    "%pip install clickhouse-connect"
   ]
  },
  {
   "cell_type": "markdown",
   "id": "501fbce4-0839-433a-90b5-8af20e6a9e94",
   "metadata": {},
   "source": [
    "### Подключение к базе данных"
   ]
  },
  {
   "cell_type": "code",
   "execution_count": 2,
   "id": "ae0f32cd-f6c4-4331-8af3-a5fd8d7558ff",
   "metadata": {},
   "outputs": [],
   "source": [
    "import clickhouse_connect\n",
    "\n",
    "client = clickhouse_connect.get_client(host='localhost', username='default', password='')"
   ]
  },
  {
   "cell_type": "markdown",
   "id": "ed328d86-9f48-4c09-9940-950f5e67df8e",
   "metadata": {},
   "source": [
    "### Создание таблиц"
   ]
  },
  {
   "cell_type": "code",
   "execution_count": 3,
   "id": "1c6037ae-31e4-4ec4-9fae-6fc0eb0fdda4",
   "metadata": {},
   "outputs": [
    {
     "data": {
      "text/plain": [
       "<clickhouse_connect.driver.summary.QuerySummary at 0x2035aed3790>"
      ]
     },
     "execution_count": 3,
     "metadata": {},
     "output_type": "execute_result"
    }
   ],
   "source": [
    "client.command('CREATE TABLE new_table (key UInt32, value String, metric Float64) ENGINE MergeTree ORDER BY key')"
   ]
  },
  {
   "cell_type": "markdown",
   "id": "250c1307-adf6-484d-afc6-ab0389635e59",
   "metadata": {},
   "source": [
    "### Вставка данных"
   ]
  },
  {
   "cell_type": "code",
   "execution_count": 4,
   "id": "97bf9277-1561-41c3-b3d0-f12749fa1c52",
   "metadata": {},
   "outputs": [
    {
     "data": {
      "text/plain": [
       "<clickhouse_connect.driver.summary.QuerySummary at 0x2035b2b8c90>"
      ]
     },
     "execution_count": 4,
     "metadata": {},
     "output_type": "execute_result"
    }
   ],
   "source": [
    "row1 = [1000, 'String Value 1000', 5.233]\n",
    "row2 = [2000, 'String Value 2000', -107.04]\n",
    "data = [row1, row2]\n",
    "client.insert('new_table', data, column_names=['key', 'value', 'metric'])"
   ]
  },
  {
   "cell_type": "markdown",
   "id": "5dd0c9c2-3ac0-42be-acf1-6816ce4841a7",
   "metadata": {},
   "source": [
    "### Извлечение данных из таблиц"
   ]
  },
  {
   "cell_type": "code",
   "execution_count": 5,
   "id": "20fd386f-3319-458b-8afd-6024bb7d8aec",
   "metadata": {},
   "outputs": [
    {
     "data": {
      "text/plain": [
       "[(2000, -50.9035)]"
      ]
     },
     "execution_count": 5,
     "metadata": {},
     "output_type": "execute_result"
    }
   ],
   "source": [
    "result = client.query('SELECT max(key), avg(metric) FROM new_table')\n",
    "result.result_rows"
   ]
  },
  {
   "cell_type": "markdown",
   "id": "10cb7441-454b-4981-9a08-c79b03dc9fb1",
   "metadata": {},
   "source": [
    "### Pandas и clickhouse"
   ]
  },
  {
   "cell_type": "code",
   "execution_count": 8,
   "id": "7cc00be1-9ee6-4106-bb31-63283b74b078",
   "metadata": {},
   "outputs": [
    {
     "name": "stdout",
     "output_type": "stream",
     "text": [
      "    key              value   metric\n",
      "0  1000  String Value 1000    5.233\n",
      "1  2000  String Value 2000 -107.040\n"
     ]
    }
   ],
   "source": [
    "df_stream = client.query_df_stream('SELECT * FROM new_table')\n",
    "column_names = df_stream.source.column_names\n",
    "with df_stream:\n",
    "    for df in df_stream:\n",
    "        print(df)"
   ]
  }
 ],
 "metadata": {
  "kernelspec": {
   "display_name": "Python 3 (ipykernel)",
   "language": "python",
   "name": "python3"
  },
  "language_info": {
   "codemirror_mode": {
    "name": "ipython",
    "version": 3
   },
   "file_extension": ".py",
   "mimetype": "text/x-python",
   "name": "python",
   "nbconvert_exporter": "python",
   "pygments_lexer": "ipython3",
   "version": "3.11.5"
  }
 },
 "nbformat": 4,
 "nbformat_minor": 5
}
