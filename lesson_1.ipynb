{
 "cells": [
  {
   "cell_type": "markdown",
   "id": "a72edb54-a68b-41ec-89f7-47683846b4e7",
   "metadata": {},
   "source": [
    "# Переменные"
   ]
  },
  {
   "cell_type": "code",
   "execution_count": 1,
   "id": "9785176b-c6b1-4244-bf31-6d0debcff7cf",
   "metadata": {},
   "outputs": [],
   "source": [
    "greeting = \"Father\""
   ]
  },
  {
   "cell_type": "markdown",
   "id": "60de4021-a5de-4b45-8493-ac7af7df5740",
   "metadata": {},
   "source": [
    "- str - строки\n",
    "```Python\n",
    "str_example = \"You so pretty\"\n",
    "```\n",
    "- float - вещественные числа\n",
    "```Python\n",
    "float_example = 3.14\n",
    "```\n",
    "- bool - значения True или False\n",
    "```Python\n",
    "true_example = True\n",
    "false_example = False\n",
    "```\n",
    "- int - целые значения\n",
    "```Python\n",
    "int_example = 1000\n",
    "```\n",
    "- None\n",
    "```Python\n",
    "none_example = None\n",
    "```"
   ]
  }
 ],
 "metadata": {
  "kernelspec": {
   "display_name": "my_kernel",
   "language": "python",
   "name": "my_kernel"
  },
  "language_info": {
   "codemirror_mode": {
    "name": "ipython",
    "version": 3
   },
   "file_extension": ".py",
   "mimetype": "text/x-python",
   "name": "python",
   "nbconvert_exporter": "python",
   "pygments_lexer": "ipython3",
   "version": "3.11.5"
  }
 },
 "nbformat": 4,
 "nbformat_minor": 5
}
